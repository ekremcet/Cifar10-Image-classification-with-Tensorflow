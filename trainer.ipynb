{
 "cells": [
  {
   "cell_type": "markdown",
   "metadata": {
    "collapsed": true
   },
   "source": [
    "<h5> Ekrem Çetinkaya S004228 </h5>\n",
    "<hr />\n",
    "<h1> <strong> Cifar-10 Trainer </strong> </h1>\n",
    "<hr />"
   ]
  },
  {
   "cell_type": "markdown",
   "metadata": {},
   "source": [
    "Read data and do preprocessing"
   ]
  },
  {
   "cell_type": "code",
   "execution_count": 1,
   "metadata": {},
   "outputs": [],
   "source": [
    "import read_data\n",
    "import numpy as np\n",
    "def normalize(images):\n",
    "    maximum = np.max(images)\n",
    "    minimum = np.min(images)\n",
    "    \n",
    "    return (images - minimum) / (maximum - minimum)\n",
    "\n",
    "def one_hot_encode(labels):\n",
    "    nx = np.max(labels) + 1\n",
    "    \n",
    "    return np.eye(nx)[labels]\n",
    "read_data.preprocess_and_save_data(normalize, one_hot_encode)"
   ]
  },
  {
   "cell_type": "markdown",
   "metadata": {},
   "source": [
    "<h3> CHECKPOINT </h3>\n",
    "<br>Run from here if you executed above cell before"
   ]
  },
  {
   "cell_type": "code",
   "execution_count": 1,
   "metadata": {},
   "outputs": [],
   "source": [
    "import pickle\n",
    "valid_images, valid_labels = pickle.load(open('preprocess_validation.p', mode='rb'))"
   ]
  },
  {
   "cell_type": "markdown",
   "metadata": {},
   "source": [
    "<h5> Enable gpu if avaliable </h5>"
   ]
  },
  {
   "cell_type": "code",
   "execution_count": 2,
   "metadata": {},
   "outputs": [
    {
     "data": {
      "text/plain": [
       "<contextlib._GeneratorContextManager at 0x2980f341e48>"
      ]
     },
     "execution_count": 2,
     "metadata": {},
     "output_type": "execute_result"
    }
   ],
   "source": [
    "import tensorflow as tf\n",
    "tf.device(\"/gpu:0\")"
   ]
  },
  {
   "cell_type": "markdown",
   "metadata": {},
   "source": [
    "<h5> Network inputs </h5>"
   ]
  },
  {
   "cell_type": "code",
   "execution_count": 3,
   "metadata": {},
   "outputs": [],
   "source": [
    "def image_input(image_shape):\n",
    "    return tf.placeholder(tf.float32, [None, image_shape[0], image_shape[1], 3], name='image')\n",
    "\n",
    "def label_input(class_count):\n",
    "    return tf.placeholder(tf.float32, [None, class_count], name='label')\n",
    "\n",
    "def dropout_input():\n",
    "    return tf.placeholder(tf.float32, name='keep_prob')\n",
    "\n",
    "tf.reset_default_graph()"
   ]
  },
  {
   "cell_type": "markdown",
   "metadata": {},
   "source": [
    "<h4> <strong> First CNN </strong> </h4>\n",
    "<ul>\n",
    "<li> <strong> Convolution </strong> 3 x 3 filter, 64 features </li>\n",
    "<li> <strong> Max Pool </strong> 3 x 3 size, stride 2 </li>\n",
    "<li> <strong> Dropout </strong> 50% probability</li>\n",
    "<li> <strong> Convolution </strong> 5 x 5 filter, 64 features </li>\n",
    "<li> <strong> Max Pool </strong> 3 x 3 size, stride 2 </li>\n",
    "<li> <strong> Dropout </strong> 50% probability</li>\n",
    "<li> <strong> Convolution </strong> 3 x 3 filter, 64 features </li>\n",
    "<li> <strong> Max Pool </strong> 2 x 2 size, stride 2 </li>\n",
    "<li> <strong> Dropout </strong> 50% probability</li>\n",
    "<li> <strong> Flatten layer </strong> </li>\n",
    "<li> <strong> Fully connected layer </strong> 192 </li>\n",
    "<li> <strong> Softmax layer </strong> </li>"
   ]
  },
  {
   "cell_type": "code",
   "execution_count": 4,
   "metadata": {},
   "outputs": [],
   "source": [
    "import model\n",
    "def cnn_model_one(x_tensor):\n",
    "    conv1 = model.conv2d(x_tensor, conv_features=48, conv_filter=[3,3], conv_strides=[1,1])\n",
    "    max_pool1 = model.max_pool(conv1, pool_size=[3,3], pool_stride=[2,2])\n",
    "    tf.nn.dropout(max_pool1, 0.5)\n",
    "    \n",
    "    conv2 = model.conv2d(max_pool1, 64, [5,5], [1,1])\n",
    "    max_pool2 = model.max_pool(conv2, [3,3], [2,2])\n",
    "    tf.nn.dropout(max_pool2, 0.5)\n",
    "    \n",
    "    conv3 = model.conv2d(max_pool2, 64, [5,5], [1,1])\n",
    "    max_pool3 = model.max_pool(conv3, [2,2], [2,2])\n",
    "    tf.nn.dropout(max_pool3, 0.5)\n",
    "    \n",
    "    flattened = model.flatten(max_pool3)\n",
    "    fc1 = model.fully_conn(flattened, 192)\n",
    "    \n",
    "    return model.output(fc1, 10)"
   ]
  },
  {
   "cell_type": "markdown",
   "metadata": {},
   "source": [
    "<h4> <strong> Second CNN </strong> </h4>\n",
    "<ul>\n",
    "<li> <strong> Convolution </strong> 3 x 3 filter, 32 features </li>\n",
    "<li> <strong> Convolution </strong> 3 x 3 filter, 32 features </li>\n",
    "<li> <strong> Max Pool </strong> 2 x 2 size, stride 2 </li>\n",
    "<li> <strong> Dropout </strong> 25% probability</li>\n",
    "<li> <strong> Convolution </strong> 3 x 3 filter, 64 features </li>\n",
    "<li> <strong> Convolution </strong> 3 x 3 filter, 64 features </li>\n",
    "<li> <strong> Max Pool </strong> 2 x 2 size, stride 2 </li>\n",
    "<li> <strong> Dropout </strong> 25% probability</li>\n",
    "<li> <strong> Flatten layer </strong> </li>\n",
    "<li> <strong> Fully connected layer </strong> 128 </li>\n",
    "<li> <strong> Dropout </strong> 50% probability</li>\n",
    "<li> <strong> Softmax layer </strong> </li>"
   ]
  },
  {
   "cell_type": "code",
   "execution_count": 5,
   "metadata": {},
   "outputs": [],
   "source": [
    "def cnn_model_two(x_tensor):\n",
    "    #440K parameters with flatten 192, %34 with 1 batch 1 iter\n",
    "    conv1 = model.conv2d(x_tensor, conv_features=32, conv_filter=[3,3], conv_strides=[1,1])\n",
    "    conv2 = model.conv2d(conv1, 32, [3,3], [1,1])\n",
    "    max_pool1 = model.max_pool(conv2, pool_size=[2,2], pool_stride=[2,2])\n",
    "    tf.nn.dropout(max_pool1, 0.25)\n",
    "    \n",
    "    conv3 = model.conv2d(max_pool1, 48, [3,3], [1,1])\n",
    "    conv4 = model.conv2d(conv3, 48, [3,3], [1,1])\n",
    "    max_pool2 = model.max_pool(conv4, [2,2], [2,2])\n",
    "    tf.nn.dropout(max_pool2, 0.25)\n",
    "    \n",
    "    flattened = model.flatten(max_pool2)\n",
    "    fc1 = model.fully_conn(flattened, 128)\n",
    "    tf.nn.dropout(fc1, 0.5)\n",
    "    \n",
    "    return model.output(fc1, 10)"
   ]
  },
  {
   "cell_type": "markdown",
   "metadata": {},
   "source": [
    "<h5> Define variables for training </h5>"
   ]
  },
  {
   "cell_type": "code",
   "execution_count": 6,
   "metadata": {},
   "outputs": [],
   "source": [
    "# Inputs\n",
    "tf.reset_default_graph()\n",
    "images = image_input((32, 32, 3))\n",
    "labels = label_input(10)"
   ]
  },
  {
   "cell_type": "markdown",
   "metadata": {},
   "source": [
    "<h5> Select which model to train </h5>"
   ]
  },
  {
   "cell_type": "code",
   "execution_count": 7,
   "metadata": {},
   "outputs": [],
   "source": [
    "#logits = cnn_model_one(images)\n",
    "#save_model_path =\".\\\\cifar_model_one\"\n",
    "logits = cnn_model_two(images)\n",
    "save_model_path = \".\\\\cifar_model_two\"\n",
    "\n",
    "logits = tf.identity(logits, name='logits')"
   ]
  },
  {
   "cell_type": "markdown",
   "metadata": {},
   "source": [
    "<h5> Loss, Optimizer and Accuracy define </h5>"
   ]
  },
  {
   "cell_type": "code",
   "execution_count": 8,
   "metadata": {},
   "outputs": [],
   "source": [
    "# Loss and Optimizer\n",
    "cost = tf.reduce_mean(tf.nn.softmax_cross_entropy_with_logits(logits=logits, labels=labels))\n",
    "optimizer = tf.train.AdamOptimizer().minimize(cost)\n",
    "# Accuracy\n",
    "correct_result = tf.equal(tf.argmax(logits, 1), tf.argmax(labels, 1))\n",
    "accuracy = tf.reduce_mean(tf.cast(correct_result, tf.float32), name='accuracy')"
   ]
  },
  {
   "cell_type": "markdown",
   "metadata": {},
   "source": [
    "<h5> Specify iteration count and batch size </h5>"
   ]
  },
  {
   "cell_type": "code",
   "execution_count": 9,
   "metadata": {},
   "outputs": [],
   "source": [
    "MAX_ITERATIONS = 1\n",
    "BATCH_SIZE = 128"
   ]
  },
  {
   "cell_type": "markdown",
   "metadata": {},
   "source": [
    "<h5> Training Functions </h5>"
   ]
  },
  {
   "cell_type": "code",
   "execution_count": 10,
   "metadata": {},
   "outputs": [],
   "source": [
    "import read_data\n",
    "\n",
    "def train_network(session ,optimizer, image_batch, label_batch):\n",
    "    session.run(optimizer, feed_dict={images: image_batch, labels: label_batch})\n",
    "\n",
    "def print_stats(session, feature_batch, label_batch, cost, accuracy):\n",
    "    global valid_features, valid_labels\n",
    "    validation_accuracy = session.run(\n",
    "        accuracy,\n",
    "        feed_dict={\n",
    "            images: valid_images,\n",
    "            labels: valid_labels,\n",
    "        }\n",
    "    )\n",
    "    cost = session.run(\n",
    "        cost,\n",
    "        feed_dict={\n",
    "            images: feature_batch,\n",
    "            labels: label_batch,\n",
    "        }\n",
    "    )\n",
    "    print('Cost = {0} - Validation Accuracy = {1}'.format(cost, validation_accuracy))\n",
    "\n",
    "def train_with_all_batches():\n",
    "    with tf.Session() as sess:\n",
    "        sess.run(tf.global_variables_initializer())\n",
    "        \n",
    "        for iteration in range(MAX_ITERATIONS):\n",
    "            num_of_batches = 5\n",
    "            for batch_i in range(1, num_of_batches + 1):\n",
    "                print('Iteration {:>2}, CIFAR-10 Batch {}:  '.format(iteration + 1, batch_i), end='')\n",
    "                for batch_images, batch_labels in read_data.load_preprocess_training_batch(batch_i, BATCH_SIZE):\n",
    "                    train_network(sess, optimizer, batch_images, batch_labels)\n",
    "                    print_stats(sess, batch_images, batch_labels, cost, accuracy)  \n",
    "        # Save Model\n",
    "        saver = tf.train.Saver()\n",
    "        final_save_path = saver.save(sess, save_model_path)\n",
    "\n",
    "def train_with_one_batch():    \n",
    "    with tf.Session() as sess:\n",
    "        sess.run(tf.global_variables_initializer())\n",
    "        \n",
    "        for iteration in range(MAX_ITERATIONS):\n",
    "            batch_i = 1\n",
    "            print('Iteration {:>2}, CIFAR-10 Batch {}:  '.format(iteration + 1, batch_i), end='')\n",
    "            for batch_images, batch_labels in read_data.load_preprocess_training_batch(batch_i, BATCH_SIZE):\n",
    "                train_network(sess, optimizer, batch_images, batch_labels)\n",
    "                print_stats(sess, batch_images, batch_labels, cost, accuracy)\n",
    "        \n",
    "        saver = tf.train.Saver()\n",
    "        final_save_path = saver.save(sess, save_model_path)"
   ]
  },
  {
   "cell_type": "markdown",
   "metadata": {},
   "source": [
    "<h3> Train Network </h3>"
   ]
  },
  {
   "cell_type": "code",
   "execution_count": 11,
   "metadata": {},
   "outputs": [
    {
     "name": "stdout",
     "output_type": "stream",
     "text": [
      "Iteration  1, CIFAR-10 Batch 1:  "
     ]
    },
    {
     "name": "stdout",
     "output_type": "stream",
     "text": [
      "Cost = 31.600528717041016 - Validation Accuracy = 0.094200000166893\n"
     ]
    },
    {
     "name": "stdout",
     "output_type": "stream",
     "text": [
      "Cost = 19.361438751220703 - Validation Accuracy = 0.10739999264478683\n"
     ]
    },
    {
     "name": "stdout",
     "output_type": "stream",
     "text": [
      "Cost = 18.37633514404297 - Validation Accuracy = 0.11299999803304672\n"
     ]
    },
    {
     "name": "stdout",
     "output_type": "stream",
     "text": [
      "Cost = 15.042413711547852 - Validation Accuracy = 0.10499999672174454\n"
     ]
    },
    {
     "name": "stdout",
     "output_type": "stream",
     "text": [
      "Cost = 11.810709953308105 - Validation Accuracy = 0.10999999940395355\n"
     ]
    },
    {
     "name": "stdout",
     "output_type": "stream",
     "text": [
      "Cost = 11.083653450012207 - Validation Accuracy = 0.1321999877691269\n"
     ]
    },
    {
     "name": "stdout",
     "output_type": "stream",
     "text": [
      "Cost = 10.282588958740234 - Validation Accuracy = 0.13119998574256897\n"
     ]
    },
    {
     "name": "stdout",
     "output_type": "stream",
     "text": [
      "Cost = 6.854748249053955 - Validation Accuracy = 0.11580000072717667\n"
     ]
    },
    {
     "name": "stdout",
     "output_type": "stream",
     "text": [
      "Cost = 6.712765693664551 - Validation Accuracy = 0.1119999960064888\n"
     ]
    },
    {
     "name": "stdout",
     "output_type": "stream",
     "text": [
      "Cost = 5.246752738952637 - Validation Accuracy = 0.1127999871969223\n"
     ]
    },
    {
     "name": "stdout",
     "output_type": "stream",
     "text": [
      "Cost = 4.552395820617676 - Validation Accuracy = 0.12239999324083328\n"
     ]
    },
    {
     "name": "stdout",
     "output_type": "stream",
     "text": [
      "Cost = 4.2345476150512695 - Validation Accuracy = 0.12880000472068787\n"
     ]
    },
    {
     "name": "stdout",
     "output_type": "stream",
     "text": [
      "Cost = 4.13768196105957 - Validation Accuracy = 0.12859998643398285\n"
     ]
    },
    {
     "name": "stdout",
     "output_type": "stream",
     "text": [
      "Cost = 3.477762222290039 - Validation Accuracy = 0.12919998168945312\n"
     ]
    },
    {
     "name": "stdout",
     "output_type": "stream",
     "text": [
      "Cost = 3.2349374294281006 - Validation Accuracy = 0.1363999843597412\n"
     ]
    },
    {
     "name": "stdout",
     "output_type": "stream",
     "text": [
      "Cost = 2.870023012161255 - Validation Accuracy = 0.14719998836517334\n"
     ]
    },
    {
     "name": "stdout",
     "output_type": "stream",
     "text": [
      "Cost = 2.8125252723693848 - Validation Accuracy = 0.15559998154640198\n"
     ]
    },
    {
     "name": "stdout",
     "output_type": "stream",
     "text": [
      "Cost = 2.641329526901245 - Validation Accuracy = 0.15479999780654907\n"
     ]
    },
    {
     "name": "stdout",
     "output_type": "stream",
     "text": [
      "Cost = 2.5231258869171143 - Validation Accuracy = 0.1435999870300293\n"
     ]
    },
    {
     "name": "stdout",
     "output_type": "stream",
     "text": [
      "Cost = 2.519129753112793 - Validation Accuracy = 0.14419999718666077\n"
     ]
    },
    {
     "name": "stdout",
     "output_type": "stream",
     "text": [
      "Cost = 2.522914171218872 - Validation Accuracy = 0.14619998633861542\n"
     ]
    },
    {
     "name": "stdout",
     "output_type": "stream",
     "text": [
      "Cost = 2.431272506713867 - Validation Accuracy = 0.1525999903678894\n"
     ]
    },
    {
     "name": "stdout",
     "output_type": "stream",
     "text": [
      "Cost = 2.360532522201538 - Validation Accuracy = 0.1565999835729599\n"
     ]
    },
    {
     "name": "stdout",
     "output_type": "stream",
     "text": [
      "Cost = 2.2865989208221436 - Validation Accuracy = 0.16220000386238098\n"
     ]
    },
    {
     "name": "stdout",
     "output_type": "stream",
     "text": [
      "Cost = 2.3956737518310547 - Validation Accuracy = 0.1647999882698059\n"
     ]
    },
    {
     "name": "stdout",
     "output_type": "stream",
     "text": [
      "Cost = 2.3212618827819824 - Validation Accuracy = 0.17139999568462372\n"
     ]
    },
    {
     "name": "stdout",
     "output_type": "stream",
     "text": [
      "Cost = 2.2391557693481445 - Validation Accuracy = 0.18439999222755432\n"
     ]
    },
    {
     "name": "stdout",
     "output_type": "stream",
     "text": [
      "Cost = 2.2262747287750244 - Validation Accuracy = 0.18919998407363892\n"
     ]
    },
    {
     "name": "stdout",
     "output_type": "stream",
     "text": [
      "Cost = 2.1070804595947266 - Validation Accuracy = 0.19179996848106384\n"
     ]
    },
    {
     "name": "stdout",
     "output_type": "stream",
     "text": [
      "Cost = 2.1644954681396484 - Validation Accuracy = 0.19780001044273376\n"
     ]
    },
    {
     "name": "stdout",
     "output_type": "stream",
     "text": [
      "Cost = 2.2055163383483887 - Validation Accuracy = 0.20339998602867126\n"
     ]
    },
    {
     "name": "stdout",
     "output_type": "stream",
     "text": [
      "Cost = 2.1823508739471436 - Validation Accuracy = 0.20720000565052032\n"
     ]
    },
    {
     "name": "stdout",
     "output_type": "stream",
     "text": [
      "Cost = 2.094756841659546 - Validation Accuracy = 0.20960000157356262\n"
     ]
    },
    {
     "name": "stdout",
     "output_type": "stream",
     "text": [
      "Cost = 2.19885516166687 - Validation Accuracy = 0.21199998259544373\n"
     ]
    },
    {
     "name": "stdout",
     "output_type": "stream",
     "text": [
      "Cost = 2.194119453430176 - Validation Accuracy = 0.21539998054504395\n"
     ]
    },
    {
     "name": "stdout",
     "output_type": "stream",
     "text": [
      "Cost = 2.20223331451416 - Validation Accuracy = 0.21619997918605804\n"
     ]
    },
    {
     "name": "stdout",
     "output_type": "stream",
     "text": [
      "Cost = 2.112962245941162 - Validation Accuracy = 0.21580000221729279\n"
     ]
    },
    {
     "name": "stdout",
     "output_type": "stream",
     "text": [
      "Cost = 2.0660476684570312 - Validation Accuracy = 0.21679998934268951\n"
     ]
    },
    {
     "name": "stdout",
     "output_type": "stream",
     "text": [
      "Cost = 2.1425657272338867 - Validation Accuracy = 0.212599977850914\n"
     ]
    },
    {
     "name": "stdout",
     "output_type": "stream",
     "text": [
      "Cost = 2.2397899627685547 - Validation Accuracy = 0.21519999206066132\n"
     ]
    },
    {
     "name": "stdout",
     "output_type": "stream",
     "text": [
      "Cost = 2.242107391357422 - Validation Accuracy = 0.22099998593330383\n"
     ]
    },
    {
     "name": "stdout",
     "output_type": "stream",
     "text": [
      "Cost = 2.1645760536193848 - Validation Accuracy = 0.2279999852180481\n"
     ]
    },
    {
     "name": "stdout",
     "output_type": "stream",
     "text": [
      "Cost = 2.1197781562805176 - Validation Accuracy = 0.23360000550746918\n"
     ]
    },
    {
     "name": "stdout",
     "output_type": "stream",
     "text": [
      "Cost = 2.0561599731445312 - Validation Accuracy = 0.23479999601840973\n"
     ]
    },
    {
     "name": "stdout",
     "output_type": "stream",
     "text": [
      "Cost = 2.0219712257385254 - Validation Accuracy = 0.23420000076293945\n"
     ]
    },
    {
     "name": "stdout",
     "output_type": "stream",
     "text": [
      "Cost = 2.152189254760742 - Validation Accuracy = 0.2378000020980835\n"
     ]
    },
    {
     "name": "stdout",
     "output_type": "stream",
     "text": [
      "Cost = 2.0424251556396484 - Validation Accuracy = 0.23979999125003815\n"
     ]
    },
    {
     "name": "stdout",
     "output_type": "stream",
     "text": [
      "Cost = 1.9832348823547363 - Validation Accuracy = 0.24319998919963837\n"
     ]
    },
    {
     "name": "stdout",
     "output_type": "stream",
     "text": [
      "Cost = 2.013223886489868 - Validation Accuracy = 0.24979999661445618\n"
     ]
    },
    {
     "name": "stdout",
     "output_type": "stream",
     "text": [
      "Cost = 2.0348331928253174 - Validation Accuracy = 0.25179997086524963\n"
     ]
    },
    {
     "name": "stdout",
     "output_type": "stream",
     "text": [
      "Cost = 2.088822364807129 - Validation Accuracy = 0.24859999120235443\n"
     ]
    },
    {
     "name": "stdout",
     "output_type": "stream",
     "text": [
      "Cost = 2.0111188888549805 - Validation Accuracy = 0.2505999803543091\n"
     ]
    },
    {
     "name": "stdout",
     "output_type": "stream",
     "text": [
      "Cost = 1.9545170068740845 - Validation Accuracy = 0.25120002031326294\n"
     ]
    },
    {
     "name": "stdout",
     "output_type": "stream",
     "text": [
      "Cost = 2.1099610328674316 - Validation Accuracy = 0.25599998235702515\n"
     ]
    },
    {
     "name": "stdout",
     "output_type": "stream",
     "text": [
      "Cost = 2.0019805431365967 - Validation Accuracy = 0.26319998502731323\n"
     ]
    },
    {
     "name": "stdout",
     "output_type": "stream",
     "text": [
      "Cost = 1.9848706722259521 - Validation Accuracy = 0.2655999958515167\n"
     ]
    },
    {
     "name": "stdout",
     "output_type": "stream",
     "text": [
      "Cost = 1.9827370643615723 - Validation Accuracy = 0.2733999788761139\n"
     ]
    },
    {
     "name": "stdout",
     "output_type": "stream",
     "text": [
      "Cost = 2.03769850730896 - Validation Accuracy = 0.2751999795436859\n"
     ]
    },
    {
     "name": "stdout",
     "output_type": "stream",
     "text": [
      "Cost = 1.9640165567398071 - Validation Accuracy = 0.2735999822616577\n"
     ]
    },
    {
     "name": "stdout",
     "output_type": "stream",
     "text": [
      "Cost = 2.0543787479400635 - Validation Accuracy = 0.2757999897003174\n"
     ]
    },
    {
     "name": "stdout",
     "output_type": "stream",
     "text": [
      "Cost = 1.9943954944610596 - Validation Accuracy = 0.28279995918273926\n"
     ]
    },
    {
     "name": "stdout",
     "output_type": "stream",
     "text": [
      "Cost = 2.01812744140625 - Validation Accuracy = 0.2903999984264374\n"
     ]
    },
    {
     "name": "stdout",
     "output_type": "stream",
     "text": [
      "Cost = 1.8751641511917114 - Validation Accuracy = 0.29839998483657837\n"
     ]
    },
    {
     "name": "stdout",
     "output_type": "stream",
     "text": [
      "Cost = 1.8544057607650757 - Validation Accuracy = 0.2962000072002411\n"
     ]
    },
    {
     "name": "stdout",
     "output_type": "stream",
     "text": [
      "Cost = 1.9389867782592773 - Validation Accuracy = 0.2937999963760376\n"
     ]
    },
    {
     "name": "stdout",
     "output_type": "stream",
     "text": [
      "Cost = 1.9347184896469116 - Validation Accuracy = 0.28679999709129333\n"
     ]
    },
    {
     "name": "stdout",
     "output_type": "stream",
     "text": [
      "Cost = 1.962795615196228 - Validation Accuracy = 0.28359997272491455\n"
     ]
    },
    {
     "name": "stdout",
     "output_type": "stream",
     "text": [
      "Cost = 1.900979995727539 - Validation Accuracy = 0.29339998960494995\n"
     ]
    },
    {
     "name": "stdout",
     "output_type": "stream",
     "text": [
      "Cost = 1.9054169654846191 - Validation Accuracy = 0.29499998688697815\n"
     ]
    },
    {
     "name": "stdout",
     "output_type": "stream",
     "text": [
      "Cost = 2.011793375015259 - Validation Accuracy = 0.30379998683929443\n"
     ]
    },
    {
     "name": "stdout",
     "output_type": "stream",
     "text": [
      "Cost = 2.1012749671936035 - Validation Accuracy = 0.3009999990463257\nIteration  1, CIFAR-10 Batch 2:  "
     ]
    },
    {
     "name": "stdout",
     "output_type": "stream",
     "text": [
      "Cost = 1.9960700273513794 - Validation Accuracy = 0.30539998412132263\n"
     ]
    },
    {
     "name": "stdout",
     "output_type": "stream",
     "text": [
      "Cost = 2.1321749687194824 - Validation Accuracy = 0.3083999752998352\n"
     ]
    },
    {
     "name": "stdout",
     "output_type": "stream",
     "text": [
      "Cost = 1.8528668880462646 - Validation Accuracy = 0.31120002269744873\n"
     ]
    },
    {
     "name": "stdout",
     "output_type": "stream",
     "text": [
      "Cost = 2.0668113231658936 - Validation Accuracy = 0.3123999834060669\n"
     ]
    },
    {
     "name": "stdout",
     "output_type": "stream",
     "text": [
      "Cost = 1.89389967918396 - Validation Accuracy = 0.31219998002052307\n"
     ]
    },
    {
     "name": "stdout",
     "output_type": "stream",
     "text": [
      "Cost = 1.8087196350097656 - Validation Accuracy = 0.31379997730255127\n"
     ]
    },
    {
     "name": "stdout",
     "output_type": "stream",
     "text": [
      "Cost = 1.828886866569519 - Validation Accuracy = 0.3181999921798706\n"
     ]
    },
    {
     "name": "stdout",
     "output_type": "stream",
     "text": [
      "Cost = 1.8250573873519897 - Validation Accuracy = 0.32099997997283936\n"
     ]
    },
    {
     "name": "stdout",
     "output_type": "stream",
     "text": [
      "Cost = 1.9300451278686523 - Validation Accuracy = 0.3219999670982361\n"
     ]
    },
    {
     "name": "stdout",
     "output_type": "stream",
     "text": [
      "Cost = 1.9106335639953613 - Validation Accuracy = 0.32159996032714844\n"
     ]
    },
    {
     "name": "stdout",
     "output_type": "stream",
     "text": [
      "Cost = 1.8364057540893555 - Validation Accuracy = 0.31619998812675476\n"
     ]
    },
    {
     "name": "stdout",
     "output_type": "stream",
     "text": [
      "Cost = 1.9021598100662231 - Validation Accuracy = 0.3179999887943268\n"
     ]
    },
    {
     "name": "stdout",
     "output_type": "stream",
     "text": [
      "Cost = 1.8377032279968262 - Validation Accuracy = 0.32099997997283936\n"
     ]
    },
    {
     "name": "stdout",
     "output_type": "stream",
     "text": [
      "Cost = 1.7473535537719727 - Validation Accuracy = 0.3219999670982361\n"
     ]
    },
    {
     "name": "stdout",
     "output_type": "stream",
     "text": [
      "Cost = 1.8904277086257935 - Validation Accuracy = 0.31939998269081116\n"
     ]
    },
    {
     "name": "stdout",
     "output_type": "stream",
     "text": [
      "Cost = 1.8329007625579834 - Validation Accuracy = 0.3245999813079834\n"
     ]
    },
    {
     "name": "stdout",
     "output_type": "stream",
     "text": [
      "Cost = 1.7762620449066162 - Validation Accuracy = 0.3165999948978424\n"
     ]
    },
    {
     "name": "stdout",
     "output_type": "stream",
     "text": [
      "Cost = 1.7765482664108276 - Validation Accuracy = 0.3131999671459198\n"
     ]
    },
    {
     "name": "stdout",
     "output_type": "stream",
     "text": [
      "Cost = 1.8237247467041016 - Validation Accuracy = 0.313400000333786\n"
     ]
    },
    {
     "name": "stdout",
     "output_type": "stream",
     "text": [
      "Cost = 1.9720057249069214 - Validation Accuracy = 0.3171999752521515\n"
     ]
    },
    {
     "name": "stdout",
     "output_type": "stream",
     "text": [
      "Cost = 1.8283915519714355 - Validation Accuracy = 0.3199999928474426\n"
     ]
    },
    {
     "name": "stdout",
     "output_type": "stream",
     "text": [
      "Cost = 1.8714523315429688 - Validation Accuracy = 0.32839998602867126\n"
     ]
    },
    {
     "name": "stdout",
     "output_type": "stream",
     "text": [
      "Cost = 1.70491361618042 - Validation Accuracy = 0.323199987411499\n"
     ]
    },
    {
     "name": "stdout",
     "output_type": "stream",
     "text": [
      "Cost = 1.940225601196289 - Validation Accuracy = 0.3277999758720398\n"
     ]
    },
    {
     "name": "stdout",
     "output_type": "stream",
     "text": [
      "Cost = 1.8304202556610107 - Validation Accuracy = 0.33739998936653137\n"
     ]
    },
    {
     "name": "stdout",
     "output_type": "stream",
     "text": [
      "Cost = 1.8735347986221313 - Validation Accuracy = 0.33959996700286865\n"
     ]
    },
    {
     "name": "stdout",
     "output_type": "stream",
     "text": [
      "Cost = 1.8344125747680664 - Validation Accuracy = 0.33959996700286865\n"
     ]
    },
    {
     "name": "stdout",
     "output_type": "stream",
     "text": [
      "Cost = 1.7766964435577393 - Validation Accuracy = 0.33560001850128174\n"
     ]
    },
    {
     "name": "stdout",
     "output_type": "stream",
     "text": [
      "Cost = 1.8023115396499634 - Validation Accuracy = 0.3405999541282654\n"
     ]
    },
    {
     "name": "stdout",
     "output_type": "stream",
     "text": [
      "Cost = 1.8453022241592407 - Validation Accuracy = 0.3383999764919281\n"
     ]
    },
    {
     "name": "stdout",
     "output_type": "stream",
     "text": [
      "Cost = 1.7489814758300781 - Validation Accuracy = 0.33719998598098755\n"
     ]
    },
    {
     "name": "stdout",
     "output_type": "stream",
     "text": [
      "Cost = 1.7775875329971313 - Validation Accuracy = 0.3327999711036682\n"
     ]
    },
    {
     "name": "stdout",
     "output_type": "stream",
     "text": [
      "Cost = 1.761791706085205 - Validation Accuracy = 0.33479997515678406\n"
     ]
    },
    {
     "name": "stdout",
     "output_type": "stream",
     "text": [
      "Cost = 1.9934346675872803 - Validation Accuracy = 0.34279999136924744\n"
     ]
    },
    {
     "name": "stdout",
     "output_type": "stream",
     "text": [
      "Cost = 1.846211314201355 - Validation Accuracy = 0.34040001034736633\n"
     ]
    },
    {
     "name": "stdout",
     "output_type": "stream",
     "text": [
      "Cost = 1.7397242784500122 - Validation Accuracy = 0.350600004196167\n"
     ]
    },
    {
     "name": "stdout",
     "output_type": "stream",
     "text": [
      "Cost = 1.7561566829681396 - Validation Accuracy = 0.3503999710083008\n"
     ]
    },
    {
     "name": "stdout",
     "output_type": "stream",
     "text": [
      "Cost = 1.8403583765029907 - Validation Accuracy = 0.3529999554157257\n"
     ]
    },
    {
     "name": "stdout",
     "output_type": "stream",
     "text": [
      "Cost = 1.9410598278045654 - Validation Accuracy = 0.34939995408058167\n"
     ]
    },
    {
     "name": "stdout",
     "output_type": "stream",
     "text": [
      "Cost = 1.921688437461853 - Validation Accuracy = 0.34939998388290405\n"
     ]
    },
    {
     "name": "stdout",
     "output_type": "stream",
     "text": [
      "Cost = 1.8886104822158813 - Validation Accuracy = 0.34679996967315674\n"
     ]
    },
    {
     "name": "stdout",
     "output_type": "stream",
     "text": [
      "Cost = 1.7093040943145752 - Validation Accuracy = 0.35819998383522034\n"
     ]
    },
    {
     "name": "stdout",
     "output_type": "stream",
     "text": [
      "Cost = 1.8573052883148193 - Validation Accuracy = 0.3611999750137329\n"
     ]
    },
    {
     "name": "stdout",
     "output_type": "stream",
     "text": [
      "Cost = 1.8561067581176758 - Validation Accuracy = 0.36159998178482056\n"
     ]
    },
    {
     "name": "stdout",
     "output_type": "stream",
     "text": [
      "Cost = 1.8408701419830322 - Validation Accuracy = 0.36139997839927673\n"
     ]
    },
    {
     "name": "stdout",
     "output_type": "stream",
     "text": [
      "Cost = 1.7450183629989624 - Validation Accuracy = 0.3637999892234802\n"
     ]
    },
    {
     "name": "stdout",
     "output_type": "stream",
     "text": [
      "Cost = 1.9523420333862305 - Validation Accuracy = 0.36859995126724243\n"
     ]
    },
    {
     "name": "stdout",
     "output_type": "stream",
     "text": [
      "Cost = 1.665184497833252 - Validation Accuracy = 0.3617999851703644\n"
     ]
    },
    {
     "name": "stdout",
     "output_type": "stream",
     "text": [
      "Cost = 1.7336043119430542 - Validation Accuracy = 0.35519999265670776\n"
     ]
    },
    {
     "name": "stdout",
     "output_type": "stream",
     "text": [
      "Cost = 1.7018911838531494 - Validation Accuracy = 0.3649999797344208\n"
     ]
    },
    {
     "name": "stdout",
     "output_type": "stream",
     "text": [
      "Cost = 1.693089246749878 - Validation Accuracy = 0.37379997968673706\n"
     ]
    },
    {
     "name": "stdout",
     "output_type": "stream",
     "text": [
      "Cost = 1.8909595012664795 - Validation Accuracy = 0.3705999553203583\n"
     ]
    },
    {
     "name": "stdout",
     "output_type": "stream",
     "text": [
      "Cost = 1.6760094165802002 - Validation Accuracy = 0.3657999634742737\n"
     ]
    },
    {
     "name": "stdout",
     "output_type": "stream",
     "text": [
      "Cost = 1.7578470706939697 - Validation Accuracy = 0.36639994382858276\n"
     ]
    },
    {
     "name": "stdout",
     "output_type": "stream",
     "text": [
      "Cost = 1.5881767272949219 - Validation Accuracy = 0.37220001220703125\n"
     ]
    },
    {
     "name": "stdout",
     "output_type": "stream",
     "text": [
      "Cost = 1.6977145671844482 - Validation Accuracy = 0.3765999674797058\n"
     ]
    },
    {
     "name": "stdout",
     "output_type": "stream",
     "text": [
      "Cost = 1.7375320196151733 - Validation Accuracy = 0.37859997153282166\n"
     ]
    },
    {
     "name": "stdout",
     "output_type": "stream",
     "text": [
      "Cost = 1.647963047027588 - Validation Accuracy = 0.3755999803543091\n"
     ]
    },
    {
     "name": "stdout",
     "output_type": "stream",
     "text": [
      "Cost = 1.5994871854782104 - Validation Accuracy = 0.3805999755859375\n"
     ]
    },
    {
     "name": "stdout",
     "output_type": "stream",
     "text": [
      "Cost = 1.7351319789886475 - Validation Accuracy = 0.38019996881484985\n"
     ]
    },
    {
     "name": "stdout",
     "output_type": "stream",
     "text": [
      "Cost = 1.8886277675628662 - Validation Accuracy = 0.3807999789714813\n"
     ]
    },
    {
     "name": "stdout",
     "output_type": "stream",
     "text": [
      "Cost = 1.6200885772705078 - Validation Accuracy = 0.37599998712539673\n"
     ]
    },
    {
     "name": "stdout",
     "output_type": "stream",
     "text": [
      "Cost = 1.6958086490631104 - Validation Accuracy = 0.38119998574256897\n"
     ]
    },
    {
     "name": "stdout",
     "output_type": "stream",
     "text": [
      "Cost = 1.78239905834198 - Validation Accuracy = 0.38419994711875916\n"
     ]
    },
    {
     "name": "stdout",
     "output_type": "stream",
     "text": [
      "Cost = 1.6402833461761475 - Validation Accuracy = 0.3813999891281128\n"
     ]
    },
    {
     "name": "stdout",
     "output_type": "stream",
     "text": [
      "Cost = 1.722214937210083 - Validation Accuracy = 0.3869999647140503\n"
     ]
    },
    {
     "name": "stdout",
     "output_type": "stream",
     "text": [
      "Cost = 1.8391379117965698 - Validation Accuracy = 0.3917999863624573\n"
     ]
    },
    {
     "name": "stdout",
     "output_type": "stream",
     "text": [
      "Cost = 1.5999969244003296 - Validation Accuracy = 0.39640000462532043\n"
     ]
    },
    {
     "name": "stdout",
     "output_type": "stream",
     "text": [
      "Cost = 1.5634490251541138 - Validation Accuracy = 0.3839999735355377\n"
     ]
    },
    {
     "name": "stdout",
     "output_type": "stream",
     "text": [
      "Cost = 1.8037214279174805 - Validation Accuracy = 0.3779999613761902\n"
     ]
    },
    {
     "name": "stdout",
     "output_type": "stream",
     "text": [
      "Cost = 1.7160940170288086 - Validation Accuracy = 0.38179999589920044\nIteration  1, CIFAR-10 Batch 3:  "
     ]
    },
    {
     "name": "stdout",
     "output_type": "stream",
     "text": [
      "Cost = 1.6810624599456787 - Validation Accuracy = 0.38440001010894775\n"
     ]
    },
    {
     "name": "stdout",
     "output_type": "stream",
     "text": [
      "Cost = 1.680533528327942 - Validation Accuracy = 0.384799987077713\n"
     ]
    },
    {
     "name": "stdout",
     "output_type": "stream",
     "text": [
      "Cost = 1.7729095220565796 - Validation Accuracy = 0.38679999113082886\n"
     ]
    },
    {
     "name": "stdout",
     "output_type": "stream",
     "text": [
      "Cost = 1.6246306896209717 - Validation Accuracy = 0.3811999559402466\n"
     ]
    },
    {
     "name": "stdout",
     "output_type": "stream",
     "text": [
      "Cost = 1.77677321434021 - Validation Accuracy = 0.3734000027179718\n"
     ]
    },
    {
     "name": "stdout",
     "output_type": "stream",
     "text": [
      "Cost = 1.6825668811798096 - Validation Accuracy = 0.36739999055862427\n"
     ]
    },
    {
     "name": "stdout",
     "output_type": "stream",
     "text": [
      "Cost = 1.6586215496063232 - Validation Accuracy = 0.37539997696876526\n"
     ]
    },
    {
     "name": "stdout",
     "output_type": "stream",
     "text": [
      "Cost = 1.5607974529266357 - Validation Accuracy = 0.3919999599456787\n"
     ]
    },
    {
     "name": "stdout",
     "output_type": "stream",
     "text": [
      "Cost = 1.7737457752227783 - Validation Accuracy = 0.39419999718666077\n"
     ]
    },
    {
     "name": "stdout",
     "output_type": "stream",
     "text": [
      "Cost = 1.6728912591934204 - Validation Accuracy = 0.3935999572277069\n"
     ]
    },
    {
     "name": "stdout",
     "output_type": "stream",
     "text": [
      "Cost = 1.8140532970428467 - Validation Accuracy = 0.39639997482299805\n"
     ]
    },
    {
     "name": "stdout",
     "output_type": "stream",
     "text": [
      "Cost = 1.6770294904708862 - Validation Accuracy = 0.39160001277923584\n"
     ]
    },
    {
     "name": "stdout",
     "output_type": "stream",
     "text": [
      "Cost = 1.6230275630950928 - Validation Accuracy = 0.38120001554489136\n"
     ]
    },
    {
     "name": "stdout",
     "output_type": "stream",
     "text": [
      "Cost = 1.66542649269104 - Validation Accuracy = 0.37860000133514404\n"
     ]
    },
    {
     "name": "stdout",
     "output_type": "stream",
     "text": [
      "Cost = 1.6504530906677246 - Validation Accuracy = 0.37860000133514404\n"
     ]
    },
    {
     "name": "stdout",
     "output_type": "stream",
     "text": [
      "Cost = 1.7596607208251953 - Validation Accuracy = 0.3819999694824219\n"
     ]
    },
    {
     "name": "stdout",
     "output_type": "stream",
     "text": [
      "Cost = 1.5267555713653564 - Validation Accuracy = 0.3879999816417694\n"
     ]
    },
    {
     "name": "stdout",
     "output_type": "stream",
     "text": [
      "Cost = 1.7313021421432495 - Validation Accuracy = 0.40139999985694885\n"
     ]
    },
    {
     "name": "stdout",
     "output_type": "stream",
     "text": [
      "Cost = 1.697603464126587 - Validation Accuracy = 0.40639999508857727\n"
     ]
    },
    {
     "name": "stdout",
     "output_type": "stream",
     "text": [
      "Cost = 1.6449549198150635 - Validation Accuracy = 0.4071999490261078\n"
     ]
    },
    {
     "name": "stdout",
     "output_type": "stream",
     "text": [
      "Cost = 1.6713037490844727 - Validation Accuracy = 0.4073999524116516\n"
     ]
    },
    {
     "name": "stdout",
     "output_type": "stream",
     "text": [
      "Cost = 1.6842747926712036 - Validation Accuracy = 0.40379998087882996\n"
     ]
    },
    {
     "name": "stdout",
     "output_type": "stream",
     "text": [
      "Cost = 1.6578301191329956 - Validation Accuracy = 0.40299999713897705\n"
     ]
    },
    {
     "name": "stdout",
     "output_type": "stream",
     "text": [
      "Cost = 1.6606662273406982 - Validation Accuracy = 0.392799973487854\n"
     ]
    },
    {
     "name": "stdout",
     "output_type": "stream",
     "text": [
      "Cost = 1.6856087446212769 - Validation Accuracy = 0.3928000032901764\n"
     ]
    },
    {
     "name": "stdout",
     "output_type": "stream",
     "text": [
      "Cost = 1.5807952880859375 - Validation Accuracy = 0.39419999718666077\n"
     ]
    },
    {
     "name": "stdout",
     "output_type": "stream",
     "text": [
      "Cost = 1.455331563949585 - Validation Accuracy = 0.40420001745224\n"
     ]
    },
    {
     "name": "stdout",
     "output_type": "stream",
     "text": [
      "Cost = 1.621315598487854 - Validation Accuracy = 0.4153999984264374\n"
     ]
    },
    {
     "name": "stdout",
     "output_type": "stream",
     "text": [
      "Cost = 1.6283304691314697 - Validation Accuracy = 0.4174000024795532\n"
     ]
    },
    {
     "name": "stdout",
     "output_type": "stream",
     "text": [
      "Cost = 1.5799705982208252 - Validation Accuracy = 0.4159999489784241\n"
     ]
    },
    {
     "name": "stdout",
     "output_type": "stream",
     "text": [
      "Cost = 1.637534499168396 - Validation Accuracy = 0.409199982881546\n"
     ]
    },
    {
     "name": "stdout",
     "output_type": "stream",
     "text": [
      "Cost = 1.5907371044158936 - Validation Accuracy = 0.3911999762058258\n"
     ]
    },
    {
     "name": "stdout",
     "output_type": "stream",
     "text": [
      "Cost = 1.5773218870162964 - Validation Accuracy = 0.3845999538898468\n"
     ]
    },
    {
     "name": "stdout",
     "output_type": "stream",
     "text": [
      "Cost = 1.5538079738616943 - Validation Accuracy = 0.3846000134944916\n"
     ]
    },
    {
     "name": "stdout",
     "output_type": "stream",
     "text": [
      "Cost = 1.6298327445983887 - Validation Accuracy = 0.39800000190734863\n"
     ]
    },
    {
     "name": "stdout",
     "output_type": "stream",
     "text": [
      "Cost = 1.4826433658599854 - Validation Accuracy = 0.41659998893737793\n"
     ]
    },
    {
     "name": "stdout",
     "output_type": "stream",
     "text": [
      "Cost = 1.52581787109375 - Validation Accuracy = 0.4155999720096588\n"
     ]
    },
    {
     "name": "stdout",
     "output_type": "stream",
     "text": [
      "Cost = 1.7603979110717773 - Validation Accuracy = 0.4123999774456024\n"
     ]
    },
    {
     "name": "stdout",
     "output_type": "stream",
     "text": [
      "Cost = 1.5293924808502197 - Validation Accuracy = 0.40199998021125793\n"
     ]
    },
    {
     "name": "stdout",
     "output_type": "stream",
     "text": [
      "Cost = 1.4515612125396729 - Validation Accuracy = 0.39799997210502625\n"
     ]
    },
    {
     "name": "stdout",
     "output_type": "stream",
     "text": [
      "Cost = 1.5913398265838623 - Validation Accuracy = 0.38839995861053467\n"
     ]
    },
    {
     "name": "stdout",
     "output_type": "stream",
     "text": [
      "Cost = 1.6806037425994873 - Validation Accuracy = 0.39020001888275146\n"
     ]
    },
    {
     "name": "stdout",
     "output_type": "stream",
     "text": [
      "Cost = 1.6042027473449707 - Validation Accuracy = 0.40379998087882996\n"
     ]
    },
    {
     "name": "stdout",
     "output_type": "stream",
     "text": [
      "Cost = 1.518460988998413 - Validation Accuracy = 0.4095999598503113\n"
     ]
    },
    {
     "name": "stdout",
     "output_type": "stream",
     "text": [
      "Cost = 1.5785892009735107 - Validation Accuracy = 0.41179993748664856\n"
     ]
    },
    {
     "name": "stdout",
     "output_type": "stream",
     "text": [
      "Cost = 1.5934319496154785 - Validation Accuracy = 0.40959998965263367\n"
     ]
    },
    {
     "name": "stdout",
     "output_type": "stream",
     "text": [
      "Cost = 1.4554051160812378 - Validation Accuracy = 0.4106000065803528\n"
     ]
    },
    {
     "name": "stdout",
     "output_type": "stream",
     "text": [
      "Cost = 1.4296679496765137 - Validation Accuracy = 0.4092000126838684\n"
     ]
    },
    {
     "name": "stdout",
     "output_type": "stream",
     "text": [
      "Cost = 1.5869683027267456 - Validation Accuracy = 0.40919995307922363\n"
     ]
    },
    {
     "name": "stdout",
     "output_type": "stream",
     "text": [
      "Cost = 1.6081080436706543 - Validation Accuracy = 0.41579997539520264\n"
     ]
    },
    {
     "name": "stdout",
     "output_type": "stream",
     "text": [
      "Cost = 1.4903388023376465 - Validation Accuracy = 0.4225999414920807\n"
     ]
    },
    {
     "name": "stdout",
     "output_type": "stream",
     "text": [
      "Cost = 1.6318535804748535 - Validation Accuracy = 0.4041999578475952\n"
     ]
    },
    {
     "name": "stdout",
     "output_type": "stream",
     "text": [
      "Cost = 1.5814846754074097 - Validation Accuracy = 0.40139997005462646\n"
     ]
    },
    {
     "name": "stdout",
     "output_type": "stream",
     "text": [
      "Cost = 1.672587275505066 - Validation Accuracy = 0.4095999598503113\n"
     ]
    },
    {
     "name": "stdout",
     "output_type": "stream",
     "text": [
      "Cost = 1.6840251684188843 - Validation Accuracy = 0.41100001335144043\n"
     ]
    },
    {
     "name": "stdout",
     "output_type": "stream",
     "text": [
      "Cost = 1.5327885150909424 - Validation Accuracy = 0.4201999604701996\n"
     ]
    },
    {
     "name": "stdout",
     "output_type": "stream",
     "text": [
      "Cost = 1.7122935056686401 - Validation Accuracy = 0.40939995646476746\n"
     ]
    },
    {
     "name": "stdout",
     "output_type": "stream",
     "text": [
      "Cost = 1.4817065000534058 - Validation Accuracy = 0.4049999713897705\n"
     ]
    },
    {
     "name": "stdout",
     "output_type": "stream",
     "text": [
      "Cost = 1.7328720092773438 - Validation Accuracy = 0.40379998087882996\n"
     ]
    },
    {
     "name": "stdout",
     "output_type": "stream",
     "text": [
      "Cost = 1.6373560428619385 - Validation Accuracy = 0.4033999741077423\n"
     ]
    },
    {
     "name": "stdout",
     "output_type": "stream",
     "text": [
      "Cost = 1.6553966999053955 - Validation Accuracy = 0.4047999382019043\n"
     ]
    },
    {
     "name": "stdout",
     "output_type": "stream",
     "text": [
      "Cost = 1.5429285764694214 - Validation Accuracy = 0.4033999741077423\n"
     ]
    },
    {
     "name": "stdout",
     "output_type": "stream",
     "text": [
      "Cost = 1.7248129844665527 - Validation Accuracy = 0.3944000005722046\n"
     ]
    },
    {
     "name": "stdout",
     "output_type": "stream",
     "text": [
      "Cost = 1.5979089736938477 - Validation Accuracy = 0.39979997277259827\n"
     ]
    },
    {
     "name": "stdout",
     "output_type": "stream",
     "text": [
      "Cost = 1.5870028734207153 - Validation Accuracy = 0.4115999937057495\n"
     ]
    },
    {
     "name": "stdout",
     "output_type": "stream",
     "text": [
      "Cost = 1.5027086734771729 - Validation Accuracy = 0.42719995975494385\n"
     ]
    },
    {
     "name": "stdout",
     "output_type": "stream",
     "text": [
      "Cost = 1.5613824129104614 - Validation Accuracy = 0.41919997334480286\n"
     ]
    },
    {
     "name": "stdout",
     "output_type": "stream",
     "text": [
      "Cost = 1.5544143915176392 - Validation Accuracy = 0.42139995098114014\n"
     ]
    },
    {
     "name": "stdout",
     "output_type": "stream",
     "text": [
      "Cost = 1.506702184677124 - Validation Accuracy = 0.4244000017642975\n"
     ]
    },
    {
     "name": "stdout",
     "output_type": "stream",
     "text": [
      "Cost = 1.3883817195892334 - Validation Accuracy = 0.4259999394416809\n"
     ]
    },
    {
     "name": "stdout",
     "output_type": "stream",
     "text": [
      "Cost = 1.3033734560012817 - Validation Accuracy = 0.42139995098114014\nIteration  1, CIFAR-10 Batch 4:  "
     ]
    },
    {
     "name": "stdout",
     "output_type": "stream",
     "text": [
      "Cost = 1.5732687711715698 - Validation Accuracy = 0.42399996519088745\n"
     ]
    },
    {
     "name": "stdout",
     "output_type": "stream",
     "text": [
      "Cost = 1.5697495937347412 - Validation Accuracy = 0.4209999442100525\n"
     ]
    },
    {
     "name": "stdout",
     "output_type": "stream",
     "text": [
      "Cost = 1.50459623336792 - Validation Accuracy = 0.4259999990463257\n"
     ]
    },
    {
     "name": "stdout",
     "output_type": "stream",
     "text": [
      "Cost = 1.63285493850708 - Validation Accuracy = 0.4259999990463257\n"
     ]
    },
    {
     "name": "stdout",
     "output_type": "stream",
     "text": [
      "Cost = 1.6483941078186035 - Validation Accuracy = 0.4309999644756317\n"
     ]
    },
    {
     "name": "stdout",
     "output_type": "stream",
     "text": [
      "Cost = 1.7136365175247192 - Validation Accuracy = 0.4291999936103821\n"
     ]
    },
    {
     "name": "stdout",
     "output_type": "stream",
     "text": [
      "Cost = 1.6207094192504883 - Validation Accuracy = 0.42739996314048767\n"
     ]
    },
    {
     "name": "stdout",
     "output_type": "stream",
     "text": [
      "Cost = 1.4397916793823242 - Validation Accuracy = 0.43299996852874756\n"
     ]
    },
    {
     "name": "stdout",
     "output_type": "stream",
     "text": [
      "Cost = 1.5057686567306519 - Validation Accuracy = 0.4253999590873718\n"
     ]
    },
    {
     "name": "stdout",
     "output_type": "stream",
     "text": [
      "Cost = 1.565492868423462 - Validation Accuracy = 0.41659995913505554\n"
     ]
    },
    {
     "name": "stdout",
     "output_type": "stream",
     "text": [
      "Cost = 1.6461025476455688 - Validation Accuracy = 0.41760000586509705\n"
     ]
    },
    {
     "name": "stdout",
     "output_type": "stream",
     "text": [
      "Cost = 1.6503376960754395 - Validation Accuracy = 0.4291999936103821\n"
     ]
    },
    {
     "name": "stdout",
     "output_type": "stream",
     "text": [
      "Cost = 1.461225152015686 - Validation Accuracy = 0.4318000078201294\n"
     ]
    },
    {
     "name": "stdout",
     "output_type": "stream",
     "text": [
      "Cost = 1.6927599906921387 - Validation Accuracy = 0.43379998207092285\n"
     ]
    },
    {
     "name": "stdout",
     "output_type": "stream",
     "text": [
      "Cost = 1.6969823837280273 - Validation Accuracy = 0.43359994888305664\n"
     ]
    },
    {
     "name": "stdout",
     "output_type": "stream",
     "text": [
      "Cost = 1.4609012603759766 - Validation Accuracy = 0.4383999705314636\n"
     ]
    },
    {
     "name": "stdout",
     "output_type": "stream",
     "text": [
      "Cost = 1.6807786226272583 - Validation Accuracy = 0.4357999563217163\n"
     ]
    },
    {
     "name": "stdout",
     "output_type": "stream",
     "text": [
      "Cost = 1.5812251567840576 - Validation Accuracy = 0.4243999719619751\n"
     ]
    },
    {
     "name": "stdout",
     "output_type": "stream",
     "text": [
      "Cost = 1.6491241455078125 - Validation Accuracy = 0.4211999773979187\n"
     ]
    },
    {
     "name": "stdout",
     "output_type": "stream",
     "text": [
      "Cost = 1.5453765392303467 - Validation Accuracy = 0.4245999753475189\n"
     ]
    },
    {
     "name": "stdout",
     "output_type": "stream",
     "text": [
      "Cost = 1.5561126470565796 - Validation Accuracy = 0.43599995970726013\n"
     ]
    },
    {
     "name": "stdout",
     "output_type": "stream",
     "text": [
      "Cost = 1.4847264289855957 - Validation Accuracy = 0.4325999617576599\n"
     ]
    },
    {
     "name": "stdout",
     "output_type": "stream",
     "text": [
      "Cost = 1.8205187320709229 - Validation Accuracy = 0.43459999561309814\n"
     ]
    },
    {
     "name": "stdout",
     "output_type": "stream",
     "text": [
      "Cost = 1.632180094718933 - Validation Accuracy = 0.4355999827384949\n"
     ]
    },
    {
     "name": "stdout",
     "output_type": "stream",
     "text": [
      "Cost = 1.531351089477539 - Validation Accuracy = 0.4405999779701233\n"
     ]
    },
    {
     "name": "stdout",
     "output_type": "stream",
     "text": [
      "Cost = 1.5252158641815186 - Validation Accuracy = 0.44739997386932373\n"
     ]
    },
    {
     "name": "stdout",
     "output_type": "stream",
     "text": [
      "Cost = 1.6240724325180054 - Validation Accuracy = 0.45319998264312744\n"
     ]
    },
    {
     "name": "stdout",
     "output_type": "stream",
     "text": [
      "Cost = 1.6056621074676514 - Validation Accuracy = 0.4449999928474426\n"
     ]
    },
    {
     "name": "stdout",
     "output_type": "stream",
     "text": [
      "Cost = 1.801818609237671 - Validation Accuracy = 0.44179999828338623\n"
     ]
    },
    {
     "name": "stdout",
     "output_type": "stream",
     "text": [
      "Cost = 1.5721975564956665 - Validation Accuracy = 0.4408000111579895\n"
     ]
    },
    {
     "name": "stdout",
     "output_type": "stream",
     "text": [
      "Cost = 1.5874017477035522 - Validation Accuracy = 0.4463999569416046\n"
     ]
    },
    {
     "name": "stdout",
     "output_type": "stream",
     "text": [
      "Cost = 1.6077430248260498 - Validation Accuracy = 0.44819995760917664\n"
     ]
    },
    {
     "name": "stdout",
     "output_type": "stream",
     "text": [
      "Cost = 1.311860203742981 - Validation Accuracy = 0.4355999827384949\n"
     ]
    },
    {
     "name": "stdout",
     "output_type": "stream",
     "text": [
      "Cost = 1.5303966999053955 - Validation Accuracy = 0.437999963760376\n"
     ]
    },
    {
     "name": "stdout",
     "output_type": "stream",
     "text": [
      "Cost = 1.5427768230438232 - Validation Accuracy = 0.4395999610424042\n"
     ]
    },
    {
     "name": "stdout",
     "output_type": "stream",
     "text": [
      "Cost = 1.5976744890213013 - Validation Accuracy = 0.4373999834060669\n"
     ]
    },
    {
     "name": "stdout",
     "output_type": "stream",
     "text": [
      "Cost = 1.4879993200302124 - Validation Accuracy = 0.44179993867874146\n"
     ]
    },
    {
     "name": "stdout",
     "output_type": "stream",
     "text": [
      "Cost = 1.4032466411590576 - Validation Accuracy = 0.44599997997283936\n"
     ]
    },
    {
     "name": "stdout",
     "output_type": "stream",
     "text": [
      "Cost = 1.6507586240768433 - Validation Accuracy = 0.4527999758720398\n"
     ]
    },
    {
     "name": "stdout",
     "output_type": "stream",
     "text": [
      "Cost = 1.4896876811981201 - Validation Accuracy = 0.4495999813079834\n"
     ]
    },
    {
     "name": "stdout",
     "output_type": "stream",
     "text": [
      "Cost = 1.3729276657104492 - Validation Accuracy = 0.4411999583244324\n"
     ]
    },
    {
     "name": "stdout",
     "output_type": "stream",
     "text": [
      "Cost = 1.5850330591201782 - Validation Accuracy = 0.43459993600845337\n"
     ]
    },
    {
     "name": "stdout",
     "output_type": "stream",
     "text": [
      "Cost = 1.4353160858154297 - Validation Accuracy = 0.44519999623298645\n"
     ]
    },
    {
     "name": "stdout",
     "output_type": "stream",
     "text": [
      "Cost = 1.4477646350860596 - Validation Accuracy = 0.45239999890327454\n"
     ]
    },
    {
     "name": "stdout",
     "output_type": "stream",
     "text": [
      "Cost = 1.4895232915878296 - Validation Accuracy = 0.4411999583244324\n"
     ]
    },
    {
     "name": "stdout",
     "output_type": "stream",
     "text": [
      "Cost = 1.508183240890503 - Validation Accuracy = 0.4437999725341797\n"
     ]
    },
    {
     "name": "stdout",
     "output_type": "stream",
     "text": [
      "Cost = 1.564226746559143 - Validation Accuracy = 0.4551999866962433\n"
     ]
    },
    {
     "name": "stdout",
     "output_type": "stream",
     "text": [
      "Cost = 1.477583646774292 - Validation Accuracy = 0.4537999629974365\n"
     ]
    },
    {
     "name": "stdout",
     "output_type": "stream",
     "text": [
      "Cost = 1.5484012365341187 - Validation Accuracy = 0.4327999949455261\n"
     ]
    },
    {
     "name": "stdout",
     "output_type": "stream",
     "text": [
      "Cost = 1.4681658744812012 - Validation Accuracy = 0.44739997386932373\n"
     ]
    },
    {
     "name": "stdout",
     "output_type": "stream",
     "text": [
      "Cost = 1.5444395542144775 - Validation Accuracy = 0.439799964427948\n"
     ]
    },
    {
     "name": "stdout",
     "output_type": "stream",
     "text": [
      "Cost = 1.463625192642212 - Validation Accuracy = 0.4381999373435974\n"
     ]
    },
    {
     "name": "stdout",
     "output_type": "stream",
     "text": [
      "Cost = 1.5246267318725586 - Validation Accuracy = 0.4381999969482422\n"
     ]
    },
    {
     "name": "stdout",
     "output_type": "stream",
     "text": [
      "Cost = 1.5288556814193726 - Validation Accuracy = 0.4463999569416046\n"
     ]
    },
    {
     "name": "stdout",
     "output_type": "stream",
     "text": [
      "Cost = 1.5797557830810547 - Validation Accuracy = 0.4477999806404114\n"
     ]
    },
    {
     "name": "stdout",
     "output_type": "stream",
     "text": [
      "Cost = 1.5490455627441406 - Validation Accuracy = 0.44579994678497314\n"
     ]
    },
    {
     "name": "stdout",
     "output_type": "stream",
     "text": [
      "Cost = 1.5350117683410645 - Validation Accuracy = 0.44439998269081116\n"
     ]
    },
    {
     "name": "stdout",
     "output_type": "stream",
     "text": [
      "Cost = 1.5005215406417847 - Validation Accuracy = 0.44019997119903564\n"
     ]
    },
    {
     "name": "stdout",
     "output_type": "stream",
     "text": [
      "Cost = 1.5019161701202393 - Validation Accuracy = 0.4357999563217163\n"
     ]
    },
    {
     "name": "stdout",
     "output_type": "stream",
     "text": [
      "Cost = 1.5674231052398682 - Validation Accuracy = 0.4421999454498291\n"
     ]
    },
    {
     "name": "stdout",
     "output_type": "stream",
     "text": [
      "Cost = 1.472435712814331 - Validation Accuracy = 0.4477999806404114\n"
     ]
    },
    {
     "name": "stdout",
     "output_type": "stream",
     "text": [
      "Cost = 1.4020967483520508 - Validation Accuracy = 0.4439999759197235\n"
     ]
    },
    {
     "name": "stdout",
     "output_type": "stream",
     "text": [
      "Cost = 1.6137696504592896 - Validation Accuracy = 0.4431999921798706\n"
     ]
    },
    {
     "name": "stdout",
     "output_type": "stream",
     "text": [
      "Cost = 1.6922693252563477 - Validation Accuracy = 0.43779996037483215\n"
     ]
    },
    {
     "name": "stdout",
     "output_type": "stream",
     "text": [
      "Cost = 1.5251314640045166 - Validation Accuracy = 0.4341999590396881\n"
     ]
    },
    {
     "name": "stdout",
     "output_type": "stream",
     "text": [
      "Cost = 1.5928435325622559 - Validation Accuracy = 0.4429999589920044\n"
     ]
    },
    {
     "name": "stdout",
     "output_type": "stream",
     "text": [
      "Cost = 1.3173812627792358 - Validation Accuracy = 0.44899997115135193\n"
     ]
    },
    {
     "name": "stdout",
     "output_type": "stream",
     "text": [
      "Cost = 1.4288461208343506 - Validation Accuracy = 0.46459993720054626\n"
     ]
    },
    {
     "name": "stdout",
     "output_type": "stream",
     "text": [
      "Cost = 1.3504806756973267 - Validation Accuracy = 0.4667999744415283\n"
     ]
    },
    {
     "name": "stdout",
     "output_type": "stream",
     "text": [
      "Cost = 1.2955399751663208 - Validation Accuracy = 0.45719996094703674\n"
     ]
    },
    {
     "name": "stdout",
     "output_type": "stream",
     "text": [
      "Cost = 1.5300500392913818 - Validation Accuracy = 0.4537999629974365\nIteration  1, CIFAR-10 Batch 5:  "
     ]
    },
    {
     "name": "stdout",
     "output_type": "stream",
     "text": [
      "Cost = 1.3241294622421265 - Validation Accuracy = 0.45139995217323303\n"
     ]
    },
    {
     "name": "stdout",
     "output_type": "stream",
     "text": [
      "Cost = 1.7076612710952759 - Validation Accuracy = 0.4511999785900116\n"
     ]
    },
    {
     "name": "stdout",
     "output_type": "stream",
     "text": [
      "Cost = 1.4898027181625366 - Validation Accuracy = 0.4511999487876892\n"
     ]
    },
    {
     "name": "stdout",
     "output_type": "stream",
     "text": [
      "Cost = 1.599668025970459 - Validation Accuracy = 0.44759997725486755\n"
     ]
    },
    {
     "name": "stdout",
     "output_type": "stream",
     "text": [
      "Cost = 1.3777223825454712 - Validation Accuracy = 0.4551999568939209\n"
     ]
    },
    {
     "name": "stdout",
     "output_type": "stream",
     "text": [
      "Cost = 1.4569833278656006 - Validation Accuracy = 0.45639994740486145\n"
     ]
    },
    {
     "name": "stdout",
     "output_type": "stream",
     "text": [
      "Cost = 1.4986507892608643 - Validation Accuracy = 0.4487999677658081\n"
     ]
    },
    {
     "name": "stdout",
     "output_type": "stream",
     "text": [
      "Cost = 1.6899560689926147 - Validation Accuracy = 0.4503999352455139\n"
     ]
    },
    {
     "name": "stdout",
     "output_type": "stream",
     "text": [
      "Cost = 1.6111681461334229 - Validation Accuracy = 0.4609999656677246\n"
     ]
    },
    {
     "name": "stdout",
     "output_type": "stream",
     "text": [
      "Cost = 1.4605202674865723 - Validation Accuracy = 0.45059993863105774\n"
     ]
    },
    {
     "name": "stdout",
     "output_type": "stream",
     "text": [
      "Cost = 1.5748803615570068 - Validation Accuracy = 0.4479999840259552\n"
     ]
    },
    {
     "name": "stdout",
     "output_type": "stream",
     "text": [
      "Cost = 1.5117803812026978 - Validation Accuracy = 0.4461999535560608\n"
     ]
    },
    {
     "name": "stdout",
     "output_type": "stream",
     "text": [
      "Cost = 1.5180816650390625 - Validation Accuracy = 0.45899996161460876\n"
     ]
    },
    {
     "name": "stdout",
     "output_type": "stream",
     "text": [
      "Cost = 1.3853743076324463 - Validation Accuracy = 0.46379998326301575\n"
     ]
    },
    {
     "name": "stdout",
     "output_type": "stream",
     "text": [
      "Cost = 1.3902578353881836 - Validation Accuracy = 0.4673999547958374\n"
     ]
    },
    {
     "name": "stdout",
     "output_type": "stream",
     "text": [
      "Cost = 1.5196510553359985 - Validation Accuracy = 0.4681999683380127\n"
     ]
    },
    {
     "name": "stdout",
     "output_type": "stream",
     "text": [
      "Cost = 1.5699822902679443 - Validation Accuracy = 0.4673999547958374\n"
     ]
    },
    {
     "name": "stdout",
     "output_type": "stream",
     "text": [
      "Cost = 1.4128484725952148 - Validation Accuracy = 0.47419995069503784\n"
     ]
    },
    {
     "name": "stdout",
     "output_type": "stream",
     "text": [
      "Cost = 1.2900936603546143 - Validation Accuracy = 0.46839994192123413\n"
     ]
    },
    {
     "name": "stdout",
     "output_type": "stream",
     "text": [
      "Cost = 1.5441542863845825 - Validation Accuracy = 0.46999993920326233\n"
     ]
    },
    {
     "name": "stdout",
     "output_type": "stream",
     "text": [
      "Cost = 1.5675649642944336 - Validation Accuracy = 0.46880000829696655\n"
     ]
    },
    {
     "name": "stdout",
     "output_type": "stream",
     "text": [
      "Cost = 1.440733790397644 - Validation Accuracy = 0.47699999809265137\n"
     ]
    },
    {
     "name": "stdout",
     "output_type": "stream",
     "text": [
      "Cost = 1.533808708190918 - Validation Accuracy = 0.47279995679855347\n"
     ]
    },
    {
     "name": "stdout",
     "output_type": "stream",
     "text": [
      "Cost = 1.413670301437378 - Validation Accuracy = 0.47259998321533203\n"
     ]
    },
    {
     "name": "stdout",
     "output_type": "stream",
     "text": [
      "Cost = 1.421638011932373 - Validation Accuracy = 0.46880000829696655\n"
     ]
    },
    {
     "name": "stdout",
     "output_type": "stream",
     "text": [
      "Cost = 1.593013048171997 - Validation Accuracy = 0.46619993448257446\n"
     ]
    },
    {
     "name": "stdout",
     "output_type": "stream",
     "text": [
      "Cost = 1.5223618745803833 - Validation Accuracy = 0.4673999547958374\n"
     ]
    },
    {
     "name": "stdout",
     "output_type": "stream",
     "text": [
      "Cost = 1.5948131084442139 - Validation Accuracy = 0.465999960899353\n"
     ]
    },
    {
     "name": "stdout",
     "output_type": "stream",
     "text": [
      "Cost = 1.292663812637329 - Validation Accuracy = 0.46939995884895325\n"
     ]
    },
    {
     "name": "stdout",
     "output_type": "stream",
     "text": [
      "Cost = 1.5067341327667236 - Validation Accuracy = 0.47399991750717163\n"
     ]
    },
    {
     "name": "stdout",
     "output_type": "stream",
     "text": [
      "Cost = 1.5539095401763916 - Validation Accuracy = 0.46699997782707214\n"
     ]
    },
    {
     "name": "stdout",
     "output_type": "stream",
     "text": [
      "Cost = 1.463440179824829 - Validation Accuracy = 0.46459996700286865\n"
     ]
    },
    {
     "name": "stdout",
     "output_type": "stream",
     "text": [
      "Cost = 1.509209394454956 - Validation Accuracy = 0.4591999650001526\n"
     ]
    },
    {
     "name": "stdout",
     "output_type": "stream",
     "text": [
      "Cost = 1.5238282680511475 - Validation Accuracy = 0.4533999562263489\n"
     ]
    },
    {
     "name": "stdout",
     "output_type": "stream",
     "text": [
      "Cost = 1.4005801677703857 - Validation Accuracy = 0.4665999710559845\n"
     ]
    },
    {
     "name": "stdout",
     "output_type": "stream",
     "text": [
      "Cost = 1.3954684734344482 - Validation Accuracy = 0.46519994735717773\n"
     ]
    },
    {
     "name": "stdout",
     "output_type": "stream",
     "text": [
      "Cost = 1.5047104358673096 - Validation Accuracy = 0.465999960899353\n"
     ]
    },
    {
     "name": "stdout",
     "output_type": "stream",
     "text": [
      "Cost = 1.4985156059265137 - Validation Accuracy = 0.47199997305870056\n"
     ]
    },
    {
     "name": "stdout",
     "output_type": "stream",
     "text": [
      "Cost = 1.4562911987304688 - Validation Accuracy = 0.46519994735717773\n"
     ]
    },
    {
     "name": "stdout",
     "output_type": "stream",
     "text": [
      "Cost = 1.3803056478500366 - Validation Accuracy = 0.44919997453689575\n"
     ]
    },
    {
     "name": "stdout",
     "output_type": "stream",
     "text": [
      "Cost = 1.580345869064331 - Validation Accuracy = 0.45799994468688965\n"
     ]
    },
    {
     "name": "stdout",
     "output_type": "stream",
     "text": [
      "Cost = 1.4766331911087036 - Validation Accuracy = 0.4697999954223633\n"
     ]
    },
    {
     "name": "stdout",
     "output_type": "stream",
     "text": [
      "Cost = 1.4298121929168701 - Validation Accuracy = 0.4769999384880066\n"
     ]
    },
    {
     "name": "stdout",
     "output_type": "stream",
     "text": [
      "Cost = 1.2913274765014648 - Validation Accuracy = 0.476999968290329\n"
     ]
    },
    {
     "name": "stdout",
     "output_type": "stream",
     "text": [
      "Cost = 1.4146387577056885 - Validation Accuracy = 0.47419995069503784\n"
     ]
    },
    {
     "name": "stdout",
     "output_type": "stream",
     "text": [
      "Cost = 1.3790332078933716 - Validation Accuracy = 0.478799968957901\n"
     ]
    },
    {
     "name": "stdout",
     "output_type": "stream",
     "text": [
      "Cost = 1.4853100776672363 - Validation Accuracy = 0.4785999655723572\n"
     ]
    },
    {
     "name": "stdout",
     "output_type": "stream",
     "text": [
      "Cost = 1.3501543998718262 - Validation Accuracy = 0.4817999303340912\n"
     ]
    },
    {
     "name": "stdout",
     "output_type": "stream",
     "text": [
      "Cost = 1.274053692817688 - Validation Accuracy = 0.47079998254776\n"
     ]
    },
    {
     "name": "stdout",
     "output_type": "stream",
     "text": [
      "Cost = 1.6018805503845215 - Validation Accuracy = 0.47839996218681335\n"
     ]
    },
    {
     "name": "stdout",
     "output_type": "stream",
     "text": [
      "Cost = 1.4879094362258911 - Validation Accuracy = 0.48339998722076416\n"
     ]
    },
    {
     "name": "stdout",
     "output_type": "stream",
     "text": [
      "Cost = 1.568743348121643 - Validation Accuracy = 0.4873999357223511\n"
     ]
    },
    {
     "name": "stdout",
     "output_type": "stream",
     "text": [
      "Cost = 1.2989085912704468 - Validation Accuracy = 0.488599956035614\n"
     ]
    },
    {
     "name": "stdout",
     "output_type": "stream",
     "text": [
      "Cost = 1.3908278942108154 - Validation Accuracy = 0.4837999641895294\n"
     ]
    },
    {
     "name": "stdout",
     "output_type": "stream",
     "text": [
      "Cost = 1.3739688396453857 - Validation Accuracy = 0.47819995880126953\n"
     ]
    },
    {
     "name": "stdout",
     "output_type": "stream",
     "text": [
      "Cost = 1.4283884763717651 - Validation Accuracy = 0.47439998388290405\n"
     ]
    },
    {
     "name": "stdout",
     "output_type": "stream",
     "text": [
      "Cost = 1.3786289691925049 - Validation Accuracy = 0.47119998931884766\n"
     ]
    },
    {
     "name": "stdout",
     "output_type": "stream",
     "text": [
      "Cost = 1.3704909086227417 - Validation Accuracy = 0.47279995679855347\n"
     ]
    },
    {
     "name": "stdout",
     "output_type": "stream",
     "text": [
      "Cost = 1.4774757623672485 - Validation Accuracy = 0.4763999283313751\n"
     ]
    },
    {
     "name": "stdout",
     "output_type": "stream",
     "text": [
      "Cost = 1.290363073348999 - Validation Accuracy = 0.46379998326301575\n"
     ]
    },
    {
     "name": "stdout",
     "output_type": "stream",
     "text": [
      "Cost = 1.289583683013916 - Validation Accuracy = 0.49299997091293335\n"
     ]
    },
    {
     "name": "stdout",
     "output_type": "stream",
     "text": [
      "Cost = 1.5713708400726318 - Validation Accuracy = 0.47119995951652527\n"
     ]
    },
    {
     "name": "stdout",
     "output_type": "stream",
     "text": [
      "Cost = 1.5936038494110107 - Validation Accuracy = 0.4514000117778778\n"
     ]
    },
    {
     "name": "stdout",
     "output_type": "stream",
     "text": [
      "Cost = 1.5581881999969482 - Validation Accuracy = 0.4617999494075775\n"
     ]
    },
    {
     "name": "stdout",
     "output_type": "stream",
     "text": [
      "Cost = 1.3765649795532227 - Validation Accuracy = 0.4795999526977539\n"
     ]
    },
    {
     "name": "stdout",
     "output_type": "stream",
     "text": [
      "Cost = 1.3641349077224731 - Validation Accuracy = 0.4857999384403229\n"
     ]
    },
    {
     "name": "stdout",
     "output_type": "stream",
     "text": [
      "Cost = 1.389054775238037 - Validation Accuracy = 0.48059993982315063\n"
     ]
    },
    {
     "name": "stdout",
     "output_type": "stream",
     "text": [
      "Cost = 1.4001909494400024 - Validation Accuracy = 0.4663999378681183\n"
     ]
    },
    {
     "name": "stdout",
     "output_type": "stream",
     "text": [
      "Cost = 1.4620150327682495 - Validation Accuracy = 0.45959991216659546\n"
     ]
    },
    {
     "name": "stdout",
     "output_type": "stream",
     "text": [
      "Cost = 1.377881407737732 - Validation Accuracy = 0.4665999412536621\n"
     ]
    },
    {
     "name": "stdout",
     "output_type": "stream",
     "text": [
      "Cost = 1.3849087953567505 - Validation Accuracy = 0.4761999845504761\n"
     ]
    }
   ],
   "source": [
    "#train_with_one_batch()\n",
    "train_with_all_batches()"
   ]
  },
  {
   "cell_type": "code",
   "execution_count": null,
   "metadata": {},
   "outputs": [],
   "source": [
    ""
   ]
  }
 ],
 "metadata": {
  "kernelspec": {
   "display_name": "Python 2",
   "language": "python",
   "name": "python2"
  },
  "language_info": {
   "codemirror_mode": {
    "name": "ipython",
    "version": 2.0
   },
   "file_extension": ".py",
   "mimetype": "text/x-python",
   "name": "python",
   "nbconvert_exporter": "python",
   "pygments_lexer": "ipython2",
   "version": "2.7.6"
  }
 },
 "nbformat": 4,
 "nbformat_minor": 0
}