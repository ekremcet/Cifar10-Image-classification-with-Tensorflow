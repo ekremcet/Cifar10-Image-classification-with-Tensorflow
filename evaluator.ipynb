{
 "cells": [
  {
   "cell_type": "heading",
   "metadata": {
    "collapsed": true
   },
   "level": 4,
   "source": [
    "<h6> Ekrem Çetinkaya S004228 </h6>\n",
    "<hr /> <hr />\n",
    "<h1> <strong> Cifar-10 Evaluator </strong> </h1>\n",
    "<hr /> <hr />"
   ]
  },
  {
   "cell_type": "heading",
   "metadata": {},
   "level": 5,
   "source": [
    "Imports"
   ]
  },
  {
   "cell_type": "code",
   "execution_count": 11,
   "metadata": {},
   "outputs": [],
   "source": [
    "import tensorflow as tf\n",
    "import pickle\n",
    "import read_data"
   ]
  },
  {
   "cell_type": "heading",
   "metadata": {},
   "level": 5,
   "source": [
    "Count number of hidden parameters"
   ]
  },
  {
   "cell_type": "code",
   "execution_count": 20,
   "metadata": {},
   "outputs": [],
   "source": [
    "def display_number_of_parameters():\n",
    "    total_parameters = 0\n",
    "    for variable in tf.trainable_variables():  \n",
    "    \tlocal_parameters=1\n",
    "    \tshape = variable.get_shape()  #getting shape of a variable\n",
    "    \tfor i in shape:\n",
    "        \tlocal_parameters*=i.value  #mutiplying dimension values\n",
    "    \ttotal_parameters+=local_parameters\n",
    "    print(\"Total number of hidden parameters: %i\" % total_parameters)"
   ]
  },
  {
   "cell_type": "heading",
   "metadata": {},
   "level": 4,
   "source": [
    "Choose model to test"
   ]
  },
  {
   "cell_type": "code",
   "execution_count": null,
   "metadata": {},
   "outputs": [],
   "source": [
    "model_path = \".\\\\cifar_model_one\"\n",
    "# model_path = \".\\\\cifar_model_two\""
   ]
  },
  {
   "cell_type": "heading",
   "metadata": {},
   "level": 4,
   "source": [
    "",
    "\n",
    "Test Function"
   ]
  },
  {
   "cell_type": "code",
   "execution_count": 24,
   "metadata": {},
   "outputs": [],
   "source": [
    "num_of_samples = 4\n",
    "top_n_predictions = 5\n",
    "batch_size = 64\n",
    "\n",
    "def test_model():\n",
    "    test_images, test_labels = pickle.load(open('preprocess_training.p', mode='rb'))\n",
    "    loaded_graph = tf.Graph()\n",
    "    \n",
    "    with tf.Session(graph=loaded_graph) as sess:\n",
    "        #Load model\n",
    "        loader = tf.train.import_meta_graph(model_path + '.meta')\n",
    "        loader.restore(sess, model_path)\n",
    "        \n",
    "        #Get tensors from loaded model\n",
    "        loaded_images = loaded_graph.get_tensor_by_name('image:0')\n",
    "        loaded_labels = loaded_graph.get_tensor_by_name('label:0')\n",
    "        loaded_accuarcy = loaded_graph.get_tensor_by_name('accuracy:0')\n",
    "        \n",
    "        display_number_of_parameters()\n",
    "        test_batch_accuracy_total = 0\n",
    "        test_batch_count = 0\n",
    "        \n",
    "        for train_image_batch, train_label_batch in read_data.batch_images_labels(test_images, test_labels, batch_size):\n",
    "            test_batch_accuracy_total += sess.run(loaded_accuarcy, feed_dict={loaded_images:train_image_batch, loaded_labels:train_label_batch})\n",
    "            test_batch_count += 1\n",
    "        print('Testing Accuracy: {}\\n'.format(test_batch_accuracy_total / test_batch_count))"
   ]
  },
  {
   "cell_type": "heading",
   "metadata": {},
   "level": 4,
   "source": [
    "\n",
    "Run the test"
   ]
  },
  {
   "cell_type": "code",
   "execution_count": 25,
   "metadata": {},
   "outputs": [
    {
     "name": "stdout",
     "output_type": "stream",
     "text": [
      "INFO:tensorflow:Restoring parameters from .\\cifar_model_one\n"
     ]
    },
    {
     "name": "stdout",
     "output_type": "stream",
     "text": [
      "Total number of parameters: 273674\n"
     ]
    },
    {
     "name": "stdout",
     "output_type": "stream",
     "text": [
      "Testing Accuracy: 0.2818471337579618\n\n"
     ]
    }
   ],
   "source": [
    "test_model()"
   ]
  },
  {
   "cell_type": "heading",
   "metadata": {},
   "level": 4,
   "source": [
    "McNemar test function"
   ]
  },
  {
   "cell_type": "code",
   "execution_count": null,
   "metadata": {},
   "outputs": [],
   "source": [
    "def mcnemar_test():\n",
    "    "
   ]
  }
 ],
 "metadata": {
  "kernelspec": {
   "display_name": "Python 2",
   "language": "python",
   "name": "python2"
  },
  "language_info": {
   "codemirror_mode": {
    "name": "ipython",
    "version": 2.0
   },
   "file_extension": ".py",
   "mimetype": "text/x-python",
   "name": "python",
   "nbconvert_exporter": "python",
   "pygments_lexer": "ipython2",
   "version": "2.7.6"
  }
 },
 "nbformat": 4,
 "nbformat_minor": 0
}